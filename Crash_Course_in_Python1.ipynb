{
  "nbformat": 4,
  "nbformat_minor": 0,
  "metadata": {
    "colab": {
      "provenance": [],
      "authorship_tag": "ABX9TyM9TUUpB7bAvHDBnuIESwxn",
      "include_colab_link": true
    },
    "kernelspec": {
      "name": "python3",
      "display_name": "Python 3"
    },
    "language_info": {
      "name": "python"
    }
  },
  "cells": [
    {
      "cell_type": "markdown",
      "metadata": {
        "id": "view-in-github",
        "colab_type": "text"
      },
      "source": [
        "<a href=\"https://colab.research.google.com/github/roapaula/AutomationWPython0/blob/main/Crash_Course_in_Python1.ipynb\" target=\"_parent\"><img src=\"https://colab.research.google.com/assets/colab-badge.svg\" alt=\"Open In Colab\"/></a>"
      ]
    },
    {
      "cell_type": "markdown",
      "source": [
        "# HELLO PYTHON\n",
        "PRIMEROS PASOS"
      ],
      "metadata": {
        "id": "YDF23yqpxY6l"
      }
    },
    {
      "cell_type": "markdown",
      "source": [
        "Print ()"
      ],
      "metadata": {
        "id": "2RYrEtpWzpgP"
      }
    },
    {
      "cell_type": "code",
      "execution_count": 1,
      "metadata": {
        "colab": {
          "base_uri": "https://localhost:8080/"
        },
        "id": "3tNnOfqQxUYq",
        "outputId": "93235563-67e6-4994-f2c7-f583cf1e6699"
      },
      "outputs": [
        {
          "output_type": "stream",
          "name": "stdout",
          "text": [
            "I love Python!\n",
            "360\n",
            "1440\n",
            "48\n"
          ]
        }
      ],
      "source": [
        "# Syntax for printing a string of text\n",
        "print(\"I love Python!\")\n",
        "\n",
        "\n",
        "# Syntax for printing numeric values\n",
        "print(360)\n",
        "print(32*45)\n",
        "\n",
        "\n",
        "# Syntax for printing the value of a variable\n",
        "value = 8*6\n",
        "print(value)"
      ]
    },
    {
      "cell_type": "markdown",
      "source": [
        "Arithmetic Operators"
      ],
      "metadata": {
        "id": "dWaolZg_zuKU"
      }
    },
    {
      "cell_type": "code",
      "source": [
        "# Multiplication, division, addition, and subtraction\n",
        "print(3*8/2+5-1)\n",
        "\n",
        "# Exponents\n",
        "print(4**6) # Syntax means 4 to the power of 6\n",
        "print(4**2) # To square a number\n",
        "print(4**3) # To cube a number\n",
        "print(4**0.5) # To find the square root of a number\n",
        "\n",
        "# To calculate how many different possible combinations can be\n",
        "# formed using a set of \"x\" characters with each character in \"x\"\n",
        "# having \"y\" number of possible values, you will need to use an\n",
        "# exponent for the calculation:\n",
        "x = 4\n",
        "y = 26\n",
        "print(y**x)"
      ],
      "metadata": {
        "colab": {
          "base_uri": "https://localhost:8080/"
        },
        "id": "swTNowSez1pp",
        "outputId": "38946095-d75c-4c90-89cb-aca6e9aadccc"
      },
      "execution_count": 2,
      "outputs": [
        {
          "output_type": "stream",
          "name": "stdout",
          "text": [
            "16.0\n",
            "4096\n",
            "16\n",
            "64\n",
            "2.0\n",
            "456976\n"
          ]
        }
      ]
    },
    {
      "cell_type": "markdown",
      "source": [
        "Variables with assignment and arithmetic operators"
      ],
      "metadata": {
        "id": "UxSoqQfd0MiK"
      }
    },
    {
      "cell_type": "code",
      "source": [
        "# Assignment of values to the variables:\n",
        "years = 10\n",
        "weeks_in_a_year = 52\n",
        "# This variable is assigned an arithmetic calculation:\n",
        "weeks_in_a_decade = years * weeks_in_a_year\n",
        "# Prints the calculation stored in the \"weeks_in_a_decade\" variable:\n",
        "print(weeks_in_a_decade)"
      ],
      "metadata": {
        "colab": {
          "base_uri": "https://localhost:8080/"
        },
        "id": "5ofYiAQo0O92",
        "outputId": "56f6c1a4-e44d-4fd1-97ff-708fb29ccc2f"
      },
      "execution_count": 3,
      "outputs": [
        {
          "output_type": "stream",
          "name": "stdout",
          "text": [
            "520\n"
          ]
        }
      ]
    },
    {
      "cell_type": "markdown",
      "source": [
        "# BASIC PYTHON SYNTAX\n",
        "\n",
        "Assignment operator =  assign values to variables\n",
        "\n",
        "Basic arithmetic operators with variables to create expressions\n",
        "\n",
        "Explicit conversion to change a data type from Float to String"
      ],
      "metadata": {
        "id": "XrSNTA_h2048"
      }
    },
    {
      "cell_type": "code",
      "source": [
        "'''\n",
        "The following lines assign the variable to the left of the =\n",
        "assignment operator with the values and arithmetic expressions\n",
        "on the right side of the = assignment operator.\n",
        "'''\n",
        "hotel_room = 100\n",
        "tax = hotel_room * 0.08\n",
        "total = hotel_room + tax\n",
        "room_guests = 4\n",
        "share_per_person = total/room_guests\n",
        "\n",
        "# This line outputs the result of the final calculation stored\n",
        "# in the variable \"share_per_person\"\n",
        "print(\"Each person needs to pay: \" + str(share_per_person)) # change a data type"
      ],
      "metadata": {
        "colab": {
          "base_uri": "https://localhost:8080/"
        },
        "id": "RyAUNNou3j1L",
        "outputId": "29018038-36a0-4e4b-924b-0d6807f09418"
      },
      "execution_count": 4,
      "outputs": [
        {
          "output_type": "stream",
          "name": "stdout",
          "text": [
            "Each person needs to pay: 27.0\n"
          ]
        }
      ]
    },
    {
      "cell_type": "markdown",
      "source": [
        "Output multiple string variables on a single line to form a sentence\n"
      ],
      "metadata": {
        "id": "RO_udFlo4FrT"
      }
    },
    {
      "cell_type": "code",
      "source": [
        "# The following 5 lines assign strings to a list of variables.\n",
        "salutation = \"Dr.\"\n",
        "first_name = \"Prisha\"\n",
        "middle_name = \"Jai\"\n",
        "last_name = \"Agarwal\"\n",
        "suffix = \"Ph.D.\"\n",
        "\n",
        "print(salutation + \" \" + first_name + \" \" + middle_name + \" \" + last_name + \", \" + suffix)\n",
        "# The comma as a string \", \" adds the conventional use of a comma plus a\n",
        "# space to separate the last name from the suffix.\n",
        "\n",
        "# Alternatively, you could use commas in place of the + connector:\n",
        "print(salutation, first_name, middle_name, last_name,\",\", suffix)\n",
        "# However, you will find that this produces a space before a comma within a string."
      ],
      "metadata": {
        "colab": {
          "base_uri": "https://localhost:8080/"
        },
        "id": "gXoVJ8k-4VAA",
        "outputId": "eaaf34a8-bbb6-4b81-b16b-0bf95a5338be"
      },
      "execution_count": 5,
      "outputs": [
        {
          "output_type": "stream",
          "name": "stdout",
          "text": [
            "Dr. Prisha Jai Agarwal, Ph.D.\n",
            "Dr. Prisha Jai Agarwal , Ph.D.\n"
          ]
        }
      ]
    },
    {
      "cell_type": "markdown",
      "source": [
        "Resolve TypeError caused by a data type mismatch issue\n",
        "\n",
        "Use an explicit conversion function"
      ],
      "metadata": {
        "id": "z9chkTfn4jSg"
      }
    },
    {
      "cell_type": "code",
      "source": [
        "#TRY THIS: print(\"5 * 3 = \" + 5*3)\n",
        "\n",
        "# Resolution:\n",
        "print(\"5 * 3 = \" + str(5*3))\n",
        "#\n",
        "# To avoid a type error between the string and the integer within the\n",
        "# print() function, you can make an explicit data type conversion by\n",
        "# using the str() function to convert the integer to a string."
      ],
      "metadata": {
        "colab": {
          "base_uri": "https://localhost:8080/"
        },
        "id": "GXGzgNFR4lPo",
        "outputId": "0041213b-704b-431a-ab00-3e1d03653616"
      },
      "execution_count": 8,
      "outputs": [
        {
          "output_type": "stream",
          "name": "stdout",
          "text": [
            "5 * 3 = 15\n"
          ]
        }
      ]
    },
    {
      "cell_type": "markdown",
      "source": [
        "Resolve a ZeroDivisionError caused by an attempt to divide by 0"
      ],
      "metadata": {
        "id": "wLj70zBa5Ahl"
      }
    },
    {
      "cell_type": "code",
      "source": [
        "numerator = 7\n",
        "denominator = 1   # Possible resolution: Change the denominator value\n",
        "result = numerator / denominator\n",
        "print(result)"
      ],
      "metadata": {
        "colab": {
          "base_uri": "https://localhost:8080/"
        },
        "id": "Zv5yi8T-5BVA",
        "outputId": "c0f0b175-0bdc-42fd-9db8-a3351bdf7529"
      },
      "execution_count": 9,
      "outputs": [
        {
          "output_type": "stream",
          "name": "stdout",
          "text": [
            "7.0\n"
          ]
        }
      ]
    }
  ]
}