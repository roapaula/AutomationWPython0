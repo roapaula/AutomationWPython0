{
  "nbformat": 4,
  "nbformat_minor": 0,
  "metadata": {
    "colab": {
      "provenance": [],
      "authorship_tag": "ABX9TyOaH2gjSl459qPcGB69e27F",
      "include_colab_link": true
    },
    "kernelspec": {
      "name": "python3",
      "display_name": "Python 3"
    },
    "language_info": {
      "name": "python"
    }
  },
  "cells": [
    {
      "cell_type": "markdown",
      "metadata": {
        "id": "view-in-github",
        "colab_type": "text"
      },
      "source": [
        "<a href=\"https://colab.research.google.com/github/roapaula/AutomationWPython0/blob/main/Crash_Course_in_Python2.ipynb\" target=\"_parent\"><img src=\"https://colab.research.google.com/assets/colab-badge.svg\" alt=\"Open In Colab\"/></a>"
      ]
    },
    {
      "cell_type": "markdown",
      "source": [
        "## FOR AND WHILE LOOPS IN PYTHON"
      ],
      "metadata": {
        "id": "rk5u1uNkQEKe"
      }
    },
    {
      "cell_type": "code",
      "execution_count": 1,
      "metadata": {
        "id": "wnR6l3XGw4uZ",
        "colab": {
          "base_uri": "https://localhost:8080/"
        },
        "outputId": "64630eaa-8944-4f62-fe01-2307c910a7cb"
      },
      "outputs": [
        {
          "output_type": "stream",
          "name": "stdout",
          "text": [
            "5 + 1 = 6\n",
            "5 + 2 = 7\n",
            "5 + 3 = 8\n",
            "5 + 4 = 9\n",
            "5 + 5 = 10\n",
            "17 + 1 = 18\n",
            "17 + 2 = 19\n",
            "17 + 3 = 20\n"
          ]
        }
      ],
      "source": [
        "# This function outputs an addition table. It is written to end after printing 5 lines of the addition table, but it will break out of the\n",
        "# loop if the \"my_sum\" variable exceeds 20.\n",
        "def addition_table(given_number):\n",
        "    iterated_number = 1\n",
        "    my_sum = 1\n",
        "    while iterated_number <= 5:\n",
        "        my_sum = given_number + iterated_number\n",
        "        if my_sum > 20:\n",
        "            break\n",
        "        print(str(given_number), \"+\", str(iterated_number), \"=\", str(my_sum))\n",
        "        iterated_number += 1\n",
        "addition_table(5)\n",
        "addition_table(17)\n",
        "addition_table(30)"
      ]
    },
    {
      "cell_type": "code",
      "source": [
        "# \"given_number\" variable, passed through the function’s parameters. The \"count\" return value includes the \"given_number\" itself as a factor (n*1).\n",
        "def count_factors(given_number):\n",
        "    factor = 1\n",
        "    count = 1\n",
        "    if given_number == 0:\n",
        "        return 0\n",
        "    while given_number > factor:\n",
        "        if given_number % factor == 0:\n",
        "            count += 1\n",
        "        factor += 1\n",
        "    return count\n",
        "\n",
        "print(count_factors(0))\n",
        "print(count_factors(4))\n",
        "print(count_factors(5))\n",
        "print(count_factors(1))\n",
        "print(count_factors(2))\n",
        "print(count_factors(24))"
      ],
      "metadata": {
        "id": "rirX_bevxmQL"
      },
      "execution_count": null,
      "outputs": []
    },
    {
      "cell_type": "code",
      "source": [
        "def sum_divisors(number):\n",
        "    # Initialize the appropriate variables\n",
        "    total = 0\n",
        "    divisor = 1\n",
        "\n",
        "    # Avoid dividing by 0 and negative numbers in the while loop by exiting the function\n",
        "    # if \"number\" is less than one\n",
        "    if number < 1:\n",
        "        return 0\n",
        "\n",
        "    while divisor <= number // 2:\n",
        "        if number % divisor == 0:\n",
        "            total += divisor\n",
        "        divisor += 1\n",
        "\n",
        "    return total\n",
        "\n",
        "print(sum_divisors(0)) # Should print 0\n",
        "print(sum_divisors(3)) # Should print 1\n",
        "print(sum_divisors(36)) # Should print 1+2+3+4+6+9+12+18\n",
        "print(sum_divisors(102)) # Should print 1+2+3+6+17+34+51"
      ],
      "metadata": {
        "id": "PyV5YCmPxnEL"
      },
      "execution_count": null,
      "outputs": []
    },
    {
      "cell_type": "markdown",
      "source": [
        "# Exercice Quiz\n",
        "Find the bug and fix the infinite loop\n",
        "\n",
        "With this two lines it fixed\n",
        "\n",
        "> if number == 0:\n",
        "     return False\n",
        "\n",
        "\n",
        "  \n",
        "\n"
      ],
      "metadata": {
        "id": "Uf6qzDbl0foQ"
      }
    },
    {
      "cell_type": "code",
      "source": [
        "def is_power_of_two(number):\n",
        "  # This while loop checks if the \"number\" can be divided by two\n",
        "  # without leaving a remainder. How can you change the while loop to\n",
        "  # avoid a Python ZeroDivisionError?\n",
        "  if number == 0:\n",
        "      return False\n",
        "\n",
        "  while number % 2 == 0:\n",
        "    number = number / 2\n",
        "  # If after dividing by 2 \"number\" equals 1, then \"number\" is a power\n",
        "  # of 2.\n",
        "  if number == 1:\n",
        "    return True\n",
        "  return False\n",
        "\n",
        "\n",
        "# Calls to the function\n",
        "print(is_power_of_two(0)) # Should be False\n",
        "print(is_power_of_two(1)) # Should be True\n",
        "print(is_power_of_two(8)) # Should be True\n",
        "print(is_power_of_two(9)) # Should be False"
      ],
      "metadata": {
        "id": "mX9AlC5jxA6G"
      },
      "execution_count": null,
      "outputs": []
    },
    {
      "cell_type": "markdown",
      "source": [
        "Returns de sum of all divisors of a number without including the number itself"
      ],
      "metadata": {
        "id": "z1YuODdY2Z2v"
      }
    },
    {
      "cell_type": "code",
      "source": [
        "def sum_divisors(number):\n",
        "    # Initialize the appropriate variables\n",
        "    total = 0\n",
        "    divisor = 1\n",
        "\n",
        "    # Avoid dividing by 0 and negative numbers in the while loop by exiting the function\n",
        "    # if \"number\" is less than one\n",
        "    if number < 1:\n",
        "        return 0\n",
        "\n",
        "    while divisor <= number // 2:\n",
        "        if number % divisor == 0:\n",
        "            total += divisor\n",
        "        divisor += 1\n",
        "\n",
        "    return total\n",
        "\n",
        "print(sum_divisors(0)) # Should print 0\n",
        "print(sum_divisors(3)) # Should print 1\n",
        "print(sum_divisors(36)) # Should print 1+2+3+4+6+9+12+18\n",
        "print(sum_divisors(102)) # Should print 1+2+3+6+17+34+51"
      ],
      "metadata": {
        "colab": {
          "base_uri": "https://localhost:8080/"
        },
        "id": "z_ZfhLiW1yHI",
        "outputId": "588c5b46-c5ec-43d1-959a-c5974661d521"
      },
      "execution_count": null,
      "outputs": [
        {
          "output_type": "stream",
          "name": "stdout",
          "text": [
            "0\n",
            "1\n",
            "55\n",
            "114\n"
          ]
        }
      ]
    },
    {
      "cell_type": "code",
      "source": [
        "def multiplication_table(number):\n",
        "    # Initialize the appropriate variable\n",
        "    multiplier = 1\n",
        "\n",
        "    # Complete the while loop condition.\n",
        "    while number > 0 and multiplier <= 5:\n",
        "        result = number * multiplier\n",
        "        if  result > 25 :\n",
        "            # Enter the action to take if the result is greater than 25\n",
        "            break\n",
        "        print(str(number) + \"x\" + str(multiplier) + \"=\" + str(result))\n",
        "\n",
        "        # Increment the appropriate variable\n",
        "        multiplier += 1\n",
        "\n",
        "\n",
        "multiplication_table(3)\n",
        "# Should print:\n",
        "# 3x1=3\n",
        "# 3x2=6"
      ],
      "metadata": {
        "id": "7wtAd1UK1yUt"
      },
      "execution_count": null,
      "outputs": []
    },
    {
      "cell_type": "markdown",
      "source": [
        "# FOR LOOPS"
      ],
      "metadata": {
        "id": "aYXh5ggU3Ndt"
      }
    },
    {
      "cell_type": "code",
      "source": [
        "#Ejercicios de practica\n",
        "values = [23, 52, 59, 37, 48]\n",
        "sum = 0\n",
        "length = 0\n",
        "for value in values:\n",
        "    sum = sum + value\n",
        "    length = length + 1\n",
        "print ('la suma es ', sum , ' el promedio es ' , (sum/length))\n",
        "\n",
        "product = 1\n",
        "for n in range (1,11):\n",
        "    product = n * product\n",
        "print ('El producto de n*n es ', product)\n",
        "\n",
        "print ('Números pares hasta el 19 son:')\n",
        "for n in range(19):\n",
        "    if n % 2 == 0:\n",
        "      print (n)\n"
      ],
      "metadata": {
        "colab": {
          "base_uri": "https://localhost:8080/"
        },
        "id": "sPfu0AMO3Lxu",
        "outputId": "54d1d338-7c79-413b-99ea-6401288269c6"
      },
      "execution_count": null,
      "outputs": [
        {
          "output_type": "stream",
          "name": "stdout",
          "text": [
            "la suma es  219  el promedio es  43.8\n",
            "El producto de n*n es  3628800\n",
            "Números pares hasta el 19 son:\n",
            "0\n",
            "2\n",
            "4\n",
            "6\n",
            "8\n",
            "10\n",
            "12\n",
            "14\n",
            "16\n",
            "18\n"
          ]
        }
      ]
    },
    {
      "cell_type": "markdown",
      "source": [
        "# NESTED LOOPS"
      ],
      "metadata": {
        "id": "q9Qq9LLd5dV2"
      }
    },
    {
      "cell_type": "code",
      "source": [
        "teams = ['Dragons', 'Unicorns', 'Wolves', 'Pandas']\n",
        "for home_team in teams:\n",
        "    for away_team in teams:\n",
        "        if home_team != away_team:\n",
        "            print (home_team, ' vs ', away_team)"
      ],
      "metadata": {
        "colab": {
          "base_uri": "https://localhost:8080/"
        },
        "id": "1a0bGovh3L-E",
        "outputId": "400eb402-241a-4de0-bee6-93c6626929a5"
      },
      "execution_count": null,
      "outputs": [
        {
          "output_type": "stream",
          "name": "stdout",
          "text": [
            "Dragons  vs  Unicorns\n",
            "Dragons  vs  Wolves\n",
            "Dragons  vs  Pandas\n",
            "Unicorns  vs  Dragons\n",
            "Unicorns  vs  Wolves\n",
            "Unicorns  vs  Pandas\n",
            "Wolves  vs  Dragons\n",
            "Wolves  vs  Unicorns\n",
            "Wolves  vs  Pandas\n",
            "Pandas  vs  Dragons\n",
            "Pandas  vs  Unicorns\n",
            "Pandas  vs  Wolves\n"
          ]
        }
      ]
    },
    {
      "cell_type": "code",
      "source": [
        "for x in range(2):\n",
        "    print(\"This is the outer loop iteration number \" + str(x))\n",
        "    for y in range(3+1):\n",
        "        print(\"Inner loop iteration number \" + str(y))\n",
        "    print(\"Exit inner loop\")"
      ],
      "metadata": {
        "id": "L__XG1y13MO9"
      },
      "execution_count": null,
      "outputs": []
    },
    {
      "cell_type": "markdown",
      "source": [
        "# MORE PRACTICE"
      ],
      "metadata": {
        "id": "mhEJZ5ji-HSx"
      }
    },
    {
      "cell_type": "code",
      "source": [
        "from re import M\n",
        "def matrix (n1,n2):\n",
        "    column = n1\n",
        "    row = n2\n",
        "    for column in range (n1,n2+1):\n",
        "        for row in range (n1, n2+1):\n",
        "\n",
        "            print(column*row, end=\" \")\n",
        "        print()\n",
        "matrix(1,4)\n",
        "matrix (2,5)"
      ],
      "metadata": {
        "colab": {
          "base_uri": "https://localhost:8080/"
        },
        "id": "htLLA4Lo9xJa",
        "outputId": "5910b27b-d575-4c6c-cb5e-6e620f8de3b8"
      },
      "execution_count": null,
      "outputs": [
        {
          "output_type": "stream",
          "name": "stdout",
          "text": [
            "1 2 3 4 \n",
            "2 4 6 8 \n",
            "3 6 9 12 \n",
            "4 8 12 16 \n",
            "4 6 8 10 \n",
            "6 9 12 15 \n",
            "8 12 16 20 \n",
            "10 15 20 25 \n"
          ]
        }
      ]
    },
    {
      "cell_type": "code",
      "source": [
        "#CONTAR DE 10 EN 10\n",
        "def count_by_10(end):\n",
        "    count = \"\"\n",
        "    for number in range(0,end+1,10):\n",
        "        count += str(number) + \" \"    #count = count + str (number) + ---. --0--10--20--3\n",
        "    return count                      # count.strip().....quita espacios en blanco\n",
        "print (count_by_10(100) )             #100... count = --, number 0 a 100+1, de 10 en 10 , count = 0 10 20"
      ],
      "metadata": {
        "colab": {
          "base_uri": "https://localhost:8080/"
        },
        "id": "Ubf10L0H8h_g",
        "outputId": "4f27a166-ff67-45b3-e59b-23337f0bb46c"
      },
      "execution_count": null,
      "outputs": [
        {
          "output_type": "stream",
          "name": "stdout",
          "text": [
            "0 10 20 30 40 50 60 70 80 90 100 \n"
          ]
        }
      ]
    },
    {
      "cell_type": "code",
      "source": [
        "def divisible (max, divisor):\n",
        "    count = 0\n",
        "    for x in range (max, divisor-1,-1):\n",
        "        #print (x)\n",
        "        if x % divisor == 0:\n",
        "            count += 1\n",
        "\n",
        "    return count\n",
        "\n",
        "print(divisible(100, 10)) # Should be 10\n",
        "print(divisible(10, 3)) # Should be 4\n",
        "print(divisible(144, 17)) # Should be 9"
      ],
      "metadata": {
        "colab": {
          "base_uri": "https://localhost:8080/"
        },
        "id": "oFTjW2zw-qZ4",
        "outputId": "378869d4-59cd-46e6-8808-fee150513cb3"
      },
      "execution_count": null,
      "outputs": [
        {
          "output_type": "stream",
          "name": "stdout",
          "text": [
            "10\n",
            "3\n",
            "8\n"
          ]
        }
      ]
    },
    {
      "cell_type": "code",
      "source": [
        "for x in range (0,4):\n",
        "  for y in range (4,0,-1):\n",
        "    if x != y:\n",
        "      print(y)\n",
        "\n",
        "\n"
      ],
      "metadata": {
        "id": "f4YRbb0CDhbj",
        "colab": {
          "base_uri": "https://localhost:8080/"
        },
        "outputId": "230a8b2a-aa65-4389-e074-495d9c6ef54d"
      },
      "execution_count": null,
      "outputs": [
        {
          "output_type": "stream",
          "name": "stdout",
          "text": [
            "4\n",
            "3\n",
            "2\n",
            "1\n",
            "4\n",
            "3\n",
            "2\n",
            "4\n",
            "3\n",
            "1\n",
            "4\n",
            "2\n",
            "1\n"
          ]
        }
      ]
    },
    {
      "cell_type": "code",
      "source": [
        "number = 1 # Initialize the variable\n",
        "while number <= 7: # Complete the while loop condition\n",
        "    print(number, end=\" \")\n",
        "    number = number + 1"
      ],
      "metadata": {
        "colab": {
          "base_uri": "https://localhost:8080/"
        },
        "id": "1WdLxRmKG05q",
        "outputId": "b1e7c1bd-06d4-45a0-a1dc-005f33c1175a"
      },
      "execution_count": null,
      "outputs": [
        {
          "output_type": "stream",
          "name": "stdout",
          "text": [
            "1 2 3 4 5 6 7 "
          ]
        }
      ]
    },
    {
      "cell_type": "code",
      "source": [
        "for number in range(1,5+1):\n",
        "    if number % 2 == 0:\n",
        "        print(\"even\")\n",
        "    else:\n",
        "        print(\"odd\")\n",
        "\n",
        "\n",
        "# Should print:\n",
        "# odd\n",
        "# even\n",
        "# odd\n",
        "# even\n",
        "# odd"
      ],
      "metadata": {
        "colab": {
          "base_uri": "https://localhost:8080/"
        },
        "id": "Mb3OzLnqHTAC",
        "outputId": "1370b294-a456-4cc7-9048-c923212bc6e2"
      },
      "execution_count": null,
      "outputs": [
        {
          "output_type": "stream",
          "name": "stdout",
          "text": [
            "odd\n",
            "even\n",
            "odd\n",
            "even\n",
            "odd\n"
          ]
        }
      ]
    },
    {
      "cell_type": "code",
      "source": [
        "def digits(n):\n",
        "    count = 0\n",
        "    if n == 0:\n",
        "      count += 1\n",
        "    while n > 0:  # Complete the while loop condition\n",
        "        # Complete the body of the while loop. This should include\n",
        "        # performing a calculation and incrementing a variable in the\n",
        "        # appropriate order.\n",
        "        count = count + 1\n",
        "        n = n // 10\n",
        "    return count\n",
        "\n",
        "print(digits(25))   # Should print 2\n",
        "print(digits(144))  # Should print 3\n",
        "print(digits(1000)) # Should print 4\n",
        "print(digits(0))    # Should print 1"
      ],
      "metadata": {
        "colab": {
          "base_uri": "https://localhost:8080/"
        },
        "id": "S1ecxk0SLtCL",
        "outputId": "60028f1b-a0d5-4a8f-b7b3-4b1c4c1e6de9"
      },
      "execution_count": null,
      "outputs": [
        {
          "output_type": "stream",
          "name": "stdout",
          "text": [
            "2\n",
            "3\n",
            "4\n",
            "1\n"
          ]
        }
      ]
    },
    {
      "cell_type": "code",
      "source": [
        "def factorial(n):\n",
        "    result = 1\n",
        "    start = n\n",
        "    n = n - 1\n",
        "    while n > 0: # The while loop should execute as long as n is greater than 0\n",
        "        result = result * n # Multiply the current result by the current value of n\n",
        "        n = n - 1 # Decrement the appropriate variable by -1\n",
        "    return result\n",
        "\n",
        "\n",
        "print(factorial(3)) # Should print 6\n",
        "print(factorial(9)) # Should print 362880\n",
        "print(factorial(1)) # Should print 1"
      ],
      "metadata": {
        "colab": {
          "base_uri": "https://localhost:8080/"
        },
        "id": "cEOc2uI9HWLG",
        "outputId": "5f5e68b7-0091-4761-850d-65f11e612e57"
      },
      "execution_count": null,
      "outputs": [
        {
          "output_type": "stream",
          "name": "stdout",
          "text": [
            "2\n",
            "40320\n",
            "1\n"
          ]
        }
      ]
    },
    {
      "cell_type": "code",
      "source": [
        "for x in range (1,10,3):\n",
        "  print (x)"
      ],
      "metadata": {
        "colab": {
          "base_uri": "https://localhost:8080/"
        },
        "id": "58fAnGBVQTpg",
        "outputId": "189347a1-f086-49ef-fff9-2252b23ac161"
      },
      "execution_count": null,
      "outputs": [
        {
          "output_type": "stream",
          "name": "stdout",
          "text": [
            "1\n",
            "4\n",
            "7\n"
          ]
        }
      ]
    },
    {
      "cell_type": "code",
      "source": [
        "num1 = 0\n",
        "num2 = 0\n",
        "\n",
        "for x in range(5):\n",
        "    num1 = x\n",
        "    for y in range(14):\n",
        "        num2 = y + 3\n",
        "\n",
        "print(num1 + num2)"
      ],
      "metadata": {
        "colab": {
          "base_uri": "https://localhost:8080/"
        },
        "id": "iGctGBSIQ9Pj",
        "outputId": "4bc30805-a5bb-4f64-e514-0d92b00186c7"
      },
      "execution_count": null,
      "outputs": [
        {
          "output_type": "stream",
          "name": "stdout",
          "text": [
            "20\n"
          ]
        }
      ]
    },
    {
      "cell_type": "code",
      "source": [
        "def rows_asterisks(rows):\n",
        "    # Complete the outer loop range to control the number of rows\n",
        "    for x in range(rows):\n",
        "        # Complete the inner loop range to control the number of\n",
        "        # asterisks per row\n",
        "        for y in range(x+1):\n",
        "            # Prints one asterisk and one space\n",
        "              print( \"*\", end = ' ')\n",
        "\n",
        "        # An empty print() function inserts a line break at the\n",
        "        # end of the row\n",
        "        print()\n",
        "    return rows_asterisks\n",
        "\n",
        "\n",
        "rows_asterisks(5)\n",
        "# Should print the asterisk rows shown above"
      ],
      "metadata": {
        "colab": {
          "base_uri": "https://localhost:8080/"
        },
        "id": "Ajx5k_YJHWfr",
        "outputId": "e8f9fe01-fb96-4026-d84f-14b0de0fee50"
      },
      "execution_count": null,
      "outputs": [
        {
          "output_type": "stream",
          "name": "stdout",
          "text": [
            "* \n",
            "* * \n",
            "* * * \n",
            "* * * * \n",
            "* * * * * \n"
          ]
        },
        {
          "output_type": "execute_result",
          "data": {
            "text/plain": [
              "<function __main__.rows_asterisks(rows)>"
            ]
          },
          "metadata": {},
          "execution_count": 11
        }
      ]
    },
    {
      "cell_type": "code",
      "source": [
        "def all_numbers(minimum, maximum):\n",
        "\n",
        "    return_string = \"\" # Initializes variable as a string\n",
        "\n",
        "    # Complete the for loop with a range that includes all\n",
        "    # numbers up to and including the \"maximum\" value.\n",
        "    for x in range (minimum, maximum+1):\n",
        "\n",
        "        # Complete the body of the loop by appending the number\n",
        "        # followed by a space to the \"return_string\" variable.\n",
        "        return_string = return_string + str (x) + ' '\n",
        "\n",
        "\n",
        "    # This .strip command will remove the final \" \" space\n",
        "    # at the end of the \"return_string\".\n",
        "    return return_string.strip()\n",
        "\n",
        "\n",
        "print(all_numbers(2,6))  # Should be 2 3 4 5 6\n",
        "print(all_numbers(3,10)) # Should be 3 4 5 6 7 8 9 10\n",
        "print(all_numbers(-1,1)) # Should be -1 0 1\n",
        "print(all_numbers(0,5))  # Should be 0 1 2 3 4 5\n",
        "print(all_numbers(0,0))  # Should be 0"
      ],
      "metadata": {
        "colab": {
          "base_uri": "https://localhost:8080/"
        },
        "id": "fq3iw3PAIxEH",
        "outputId": "b25aa401-4555-4803-a747-ccf11a3e6cba"
      },
      "execution_count": null,
      "outputs": [
        {
          "output_type": "stream",
          "name": "stdout",
          "text": [
            "2 3 4 5 6\n",
            "3 4 5 6 7 8 9 10\n",
            "-1 0 1\n",
            "0 1 2 3 4 5\n",
            "0\n"
          ]
        }
      ]
    },
    {
      "cell_type": "code",
      "source": [
        "x=1\n",
        "sum=0\n",
        "while x <= 10:\n",
        "  sum = sum + x #sum += x\n",
        "  x = x + 1 # x += 1\n",
        "print (sum)"
      ],
      "metadata": {
        "colab": {
          "base_uri": "https://localhost:8080/"
        },
        "id": "W1a7CtWxSTZz",
        "outputId": "0914b7af-ce95-4e6f-de3f-1e21eef85ad6"
      },
      "execution_count": null,
      "outputs": [
        {
          "output_type": "stream",
          "name": "stdout",
          "text": [
            "55\n"
          ]
        }
      ]
    },
    {
      "cell_type": "code",
      "source": [
        "for x in range (1,10,3):\n",
        "    print (x)"
      ],
      "metadata": {
        "colab": {
          "base_uri": "https://localhost:8080/"
        },
        "id": "f8Tw_zBZTM84",
        "outputId": "4a39cc34-8747-4121-9f6c-44865eb4e05b"
      },
      "execution_count": null,
      "outputs": [
        {
          "output_type": "stream",
          "name": "stdout",
          "text": [
            "1\n",
            "4\n",
            "7\n"
          ]
        }
      ]
    },
    {
      "cell_type": "code",
      "source": [
        "for x in range (0,10):\n",
        "  for y in range (x):\n",
        "    print (y)"
      ],
      "metadata": {
        "id": "4jd-pgPITfOT"
      },
      "execution_count": null,
      "outputs": []
    },
    {
      "cell_type": "code",
      "source": [
        "def count_ten():\n",
        "  x=1\n",
        "  while x <=10:\n",
        "    print (x)\n",
        "    x=1+x\n",
        "\n",
        "print (count_ten())\n"
      ],
      "metadata": {
        "id": "DF9b95AoUNVH"
      },
      "execution_count": null,
      "outputs": []
    },
    {
      "cell_type": "markdown",
      "source": [],
      "metadata": {
        "id": "8UMgokF_Rg_1"
      }
    },
    {
      "cell_type": "markdown",
      "source": [
        "# STRING FORMATS"
      ],
      "metadata": {
        "id": "v__YuLQXQXn5"
      }
    },
    {
      "cell_type": "code",
      "source": [
        "# FORMAT METHODS\n",
        "# This function generates a username using the first 3 letters of a user’s last name plus their birth year.\n",
        "def username(last_name, birth_year):\n",
        "  return (\"{}{}\".format((last_name[:3]),(birth_year)))\n",
        "print (username(\"Ivanov\", \"1985\")) #return(\"{}{}\".format(last_name[0:3],birth_year)\n",
        "print(username(\"Rodríguez\", \"2000\"))"
      ],
      "metadata": {
        "colab": {
          "base_uri": "https://localhost:8080/"
        },
        "id": "O--p1rnhRX2u",
        "outputId": "682c36d7-d28f-4b76-9233-8fe78d617bd2"
      },
      "execution_count": null,
      "outputs": [
        {
          "output_type": "stream",
          "name": "stdout",
          "text": [
            "Iva1985\n",
            "Rod2000\n"
          ]
        }
      ]
    },
    {
      "cell_type": "code",
      "source": [
        "#FORMAT METHODS\n",
        "#This function converts measurement equivalents.\n",
        "#Output is formatted as, \"x ounces equals y pounds\", with y limited to 2 decimal places.\n",
        "def convert_weight(ounces):\n",
        "  pounds = ounces/16\n",
        "  result = \"{} ounces equals {:.2f} pounds\".format(ounces,pounds)\n",
        "  return result\n",
        "print(convert_weight(12)) # Should be: 12 ounces equals 0.75 pounds\n",
        "print(convert_weight(50.5)) # Should be: 50.5 ounces equals 3.16 pounds\n",
        "print(convert_weight(16)) # Should be: 16 ounces equals 1.00 pounds"
      ],
      "metadata": {
        "colab": {
          "base_uri": "https://localhost:8080/"
        },
        "id": "DA2K76EyQiKd",
        "outputId": "7d31a3b1-6f7e-4784-b2de-410ffa8b9cd6"
      },
      "execution_count": null,
      "outputs": [
        {
          "output_type": "stream",
          "name": "stdout",
          "text": [
            "12 ounces equals 0.75 pounds\n",
            "50.5 ounces equals 3.16 pounds\n",
            "16 ounces equals 1.00 pounds\n"
          ]
        }
      ]
    },
    {
      "cell_type": "code",
      "source": [],
      "metadata": {
        "id": "fDGW00ylTU6b"
      },
      "execution_count": null,
      "outputs": []
    },
    {
      "cell_type": "code",
      "source": [
        "#FORMAT METHOD. Replace()\n",
        "#This function checks a given schedule entry for an old date and, if found, the function replaces it with a new date.\n",
        "'''\n",
        "schedule= \"Last year’s annual report will be released in March 2023\"\n",
        "print (schedule[:-4], schedule[-4:])\n",
        "'''\n",
        "def replace_date(schedule, old_date, new_date):\n",
        "  if schedule.endswith(old_date):\n",
        "    p = len(old_date) # p = 3. 2023, tiene 4 caracteres, 0,1,2,3\n",
        "    new_schedule = schedule[:-p] + schedule[-p:].replace(old_date, new_date) #[:-p] toma el valor de p\n",
        "    return new_schedule\n",
        "  return schedule\n",
        "print(replace_date(\"Last year’s annual report will be released in March 2023\", \"2023\", \"2024\"))\n",
        "print(replace_date(\"In April, the CEO will hold a conference\", \"April\", \"May\"))\n",
        "print(replace_date(\"The convention is scheduled for October\", \"October\", \"June\"))\n",
        "\n"
      ],
      "metadata": {
        "colab": {
          "base_uri": "https://localhost:8080/"
        },
        "id": "mD8bpn1VTVLO",
        "outputId": "cc033680-9daf-4ed8-be53-fa7e58899057"
      },
      "execution_count": null,
      "outputs": [
        {
          "output_type": "stream",
          "name": "stdout",
          "text": [
            "Last year’s annual report will be released in March 2024\n",
            "In April, the CEO will hold a conference\n",
            "The convention is scheduled for June\n"
          ]
        }
      ]
    },
    {
      "cell_type": "markdown",
      "source": [
        "## EXAM"
      ],
      "metadata": {
        "id": "xa7MvXh8cYGg"
      }
    },
    {
      "cell_type": "code",
      "source": [
        "def is_palindrome(input_string):\n",
        "    # Two variables are initialized as string data types using empty\n",
        "    # quotes: \"reverse_string\" to hold the \"input_string\" in reverse\n",
        "    # order and \"new_string\" to hold the \"input_string\" minus the\n",
        "    # spaces between words, if any are found.\n",
        "    new_string = \"\"\n",
        "    reverse_string = \"\"\n",
        "\n",
        "    # Complete the for loop to iterate through each letter of the\n",
        "    # \"input_string\"\n",
        "    for letter in input_string:\n",
        "        # The if-statement checks if the \"letter\" is not a space.\n",
        "        if letter != \" \":\n",
        "            # If True, add the \"letter\" to the end of \"new_string\" and\n",
        "            # to the front of \"reverse_string\". If False (if a space\n",
        "            # is detected), no action is needed. Exit the if-block.\n",
        "            new_string += letter\n",
        "            reverse_string = letter + reverse_string\n",
        "\n",
        "    # Complete the if-statement to compare the \"new_string\" to the\n",
        "    # \"reverse_string\". Remember that Python is case-sensitive when\n",
        "    # creating the string comparison code.\n",
        "    if new_string.lower() == reverse_string.lower():\n",
        "        # If True, the \"input_string\" contains a palindrome.\n",
        "        return True\n",
        "\n",
        "    # Otherwise, return False.\n",
        "    return False\n",
        "\n",
        "\n",
        "print(is_palindrome(\"Never Odd or Even\")) # Should be True\n",
        "print(is_palindrome(\"abc\")) # Should be False\n",
        "print(is_palindrome(\"kayak\")) # Should be True\n"
      ],
      "metadata": {
        "colab": {
          "base_uri": "https://localhost:8080/"
        },
        "id": "yWKKumGjaZmO",
        "outputId": "ee18312b-96b8-44c9-c8d9-a2f330174a14"
      },
      "execution_count": null,
      "outputs": [
        {
          "output_type": "stream",
          "name": "stdout",
          "text": [
            "True\n",
            "False\n",
            "True\n"
          ]
        }
      ]
    },
    {
      "cell_type": "code",
      "source": [
        "def convert_distance(miles):\n",
        "    km = miles * 1.6\n",
        "    result = \"{} miles equals {___} km\".___\n",
        "    return result\n",
        "\n",
        "\n",
        "print(convert_distance(12)) # Should be: 12 miles equals 19.2 km\n",
        "print(convert_distance(5.5)) # Should be: 5.5 miles equals 8.8 km\n",
        "print(convert_distance(11)) # Should be: 11 miles equals 17.6 km"
      ],
      "metadata": {
        "id": "__DM0ljkccBZ"
      },
      "execution_count": null,
      "outputs": []
    },
    {
      "cell_type": "code",
      "source": [
        "weather = \"Rainfold\"\n",
        "print (weather[:4])"
      ],
      "metadata": {
        "colab": {
          "base_uri": "https://localhost:8080/"
        },
        "id": "KTXG2tzSccRY",
        "outputId": "c0ba2a13-8e3a-4021-f0e5-3d4d67e0fa35"
      },
      "execution_count": null,
      "outputs": [
        {
          "output_type": "stream",
          "name": "stdout",
          "text": [
            "Rain\n"
          ]
        }
      ]
    },
    {
      "cell_type": "code",
      "source": [
        "def nametag(first_name, last_name):\n",
        "    return(\"___.\".format(___))\n",
        "\n",
        "\n",
        "print(nametag(\"Jane\", \"Smith\"))\n",
        "# Should display \"Jane S.\"\n",
        "print(nametag(\"Francesco\", \"Rinaldi\"))\n",
        "# Should display \"Francesco R.\"\n",
        "print(nametag(\"Jean-Luc\", \"Grand-Pierre\"))\n",
        "# Should display \"Jean-Luc G.\""
      ],
      "metadata": {
        "id": "VmcjkDL0dd-P"
      },
      "execution_count": null,
      "outputs": []
    },
    {
      "cell_type": "code",
      "source": [
        "def replace_ending(sentence, old, new):\n",
        "    # Check if the old substring is at the end of the sentence\n",
        "    if old in sentence:\n",
        "        # Using i as the slicing index, combine the part\n",
        "        # of the sentence up to the matched string at the\n",
        "        # end with the new string\n",
        "        i = old\n",
        "        new_sentence = sentence.replace(i,new)\n",
        "        return new_sentence\n",
        "\n",
        "\n",
        "    # Return the original sentence if there is no match\n",
        "    return sentence\n",
        "\n",
        "print(replace_ending(\"It's raining cats and cats\", \"cats\", \"dogs\"))\n",
        "# Should display \"It's raining cats and dogs\"\n",
        "print(replace_ending(\"She sells seashells by the seashore\", \"seashells\", \"donuts\"))\n",
        "# Should display \"She sells seashells by the seashore\"\n",
        "print(replace_ending(\"The weather is nice in May\", \"may\", \"april\"))\n",
        "# Should display \"The weather is nice in May\"\n",
        "print(replace_ending(\"The weather is nice in May\", \"May\", \"April\"))\n",
        "# Should display \"The weather is nice in April\""
      ],
      "metadata": {
        "colab": {
          "base_uri": "https://localhost:8080/"
        },
        "id": "zxwIRMy8emX2",
        "outputId": "456adca2-08fe-4148-83f1-199101263523"
      },
      "execution_count": null,
      "outputs": [
        {
          "output_type": "stream",
          "name": "stdout",
          "text": [
            "It's raining dogs and dogs\n",
            "She sells donuts by the seashore\n",
            "The weather is nice in May\n",
            "The weather is nice in April\n"
          ]
        }
      ]
    },
    {
      "cell_type": "code",
      "source": [
        "def replace_ending(sentence, old, new):\n",
        "    # Check if the old substring is at the end of the sentence\n",
        "    if sentence.endswith(old):\n",
        "        # Using i as the slicing index, combine the part\n",
        "        # of the sentence up to the matched string at the\n",
        "        # end with the new string\n",
        "        i = len(sentence) - len(old)\n",
        "        new_sentence = sentence[:i] + new\n",
        "        return new_sentence\n",
        "\n",
        "    # Return the original sentence if there is no match\n",
        "    return sentence\n",
        "\n",
        "print(replace_ending(\"It's raining cats and cats\", \"cats\", \"dogs\"))\n",
        "# Should display \"It's raining cats and dogs\"\n",
        "print(replace_ending(\"She sells seashells by the seashore\", \"seashells\", \"donuts\"))\n",
        "# Should display \"She sells seashells by the seashore\"\n",
        "print(replace_ending(\"The weather is nice in May\", \"may\", \"april\"))\n",
        "# Should display \"The weather is nice in May\"\n",
        "print(replace_ending(\"The weather is nice in May\", \"May\", \"April\"))\n",
        "# Should display \"The weather is nice in April\"\n"
      ],
      "metadata": {
        "id": "Sw5h1740fhgG"
      },
      "execution_count": null,
      "outputs": []
    },
    {
      "cell_type": "code",
      "source": [
        "def get_word(sentence, n):\n",
        "\t# Only proceed if n is positive\n",
        "\tif n > 0:\n",
        "\t\twords = sentence.split()\n",
        "\t\t# Only proceed if n is not more than the number of words\n",
        "\t\tif n <= len(words):\n",
        "\t\t\treturn(words[n - 1])\n",
        "\treturn(\"\")\n",
        "\n",
        "print(get_word(\"This is a lesson about lists\", 4)) # Should print: lesson\n",
        "print(get_word(\"This is a lesson about lists\", -4)) # Nothing\n",
        "print(get_word(\"Now we are cooking!\", 1)) # Should prin"
      ],
      "metadata": {
        "colab": {
          "base_uri": "https://localhost:8080/"
        },
        "id": "Ua8bDL1MjqFP",
        "outputId": "cd6801a6-ee33-4fd7-c0da-f33563f95667"
      },
      "execution_count": null,
      "outputs": [
        {
          "output_type": "stream",
          "name": "stdout",
          "text": [
            "lesson\n",
            "\n",
            "Now\n"
          ]
        }
      ]
    },
    {
      "cell_type": "code",
      "source": [
        "def file_size(file_info):\n",
        "\t___, ___, ___= file_info\n",
        "\treturn(\"{:.2f}\".format(___ / 1024))\n",
        "\n",
        "print(file_size(('Class Assignment', 'docx', 17875))) # Should print 17.46\n",
        "print(file_size(('Notes', 'txt', 496))) # Should print 0.48"
      ],
      "metadata": {
        "id": "NunnhMu9fhRA"
      },
      "execution_count": null,
      "outputs": []
    },
    {
      "cell_type": "code",
      "source": [
        "def skip_elements(elements):\n",
        "\t# code goes here\n",
        "\n",
        "\treturn ___\n",
        "\n",
        "print(skip_elements([\"a\", \"b\", \"c\", \"d\", \"e\", \"f\", \"g\"])) # Should be ['a', 'c', 'e', 'g']\n",
        "print(skip_elements(['Orange', 'Pineapple', 'Strawberry', 'Kiwi', 'Peach'])) # Should be ['Orange', 'Strawberry', 'Peach']"
      ],
      "metadata": {
        "id": "Fnz3zWhUpvIF"
      },
      "execution_count": null,
      "outputs": []
    },
    {
      "cell_type": "code",
      "source": [
        "def skip_elements(elements):\n",
        "  for index, element in enumerate(elements):\n",
        "    if index % 2 == 0:\n",
        "      print (element)\n",
        "  return element\n",
        "#return [element for index, element in enumerate(elements) if index % 2 == 0]\n",
        "print(skip_elements([\"a\", \"b\", \"c\", \"d\", \"e\", \"f\", \"g\"]))  # Should be ['a', 'c', 'e', 'g']\n",
        "print(skip_elements(['Orange', 'Pineapple', 'Strawberry', 'Kiwi', 'Peach']))  # Should be ['Orange', 'Strawberry', 'Peach']\n"
      ],
      "metadata": {
        "colab": {
          "base_uri": "https://localhost:8080/"
        },
        "id": "VpqsVmiRqzfE",
        "outputId": "2b07e656-fbbf-4918-816d-1fc7d43eeb2c"
      },
      "execution_count": null,
      "outputs": [
        {
          "output_type": "stream",
          "name": "stdout",
          "text": [
            "a\n",
            "c\n",
            "e\n",
            "g\n",
            "g\n",
            "Orange\n",
            "Strawberry\n",
            "Peach\n",
            "Peach\n"
          ]
        }
      ]
    },
    {
      "cell_type": "code",
      "source": [
        "def odd_numbers(n):\n",
        "\treturn [x for x in range (1,n+1) if x % 2 != 0 ] # if ___]\n",
        "\n",
        "print(odd_numbers(5))  # Should print [1, 3, 5]\n",
        "print(odd_numbers(10)) # Should print [1, 3, 5, 7, 9]\n",
        "print(odd_numbers(11)) # Should print [1, 3, 5, 7, 9, 11]\n",
        "print(odd_numbers(1))  # Should print [1]\n",
        "print(odd_numbers(-1)) # Should print []"
      ],
      "metadata": {
        "colab": {
          "base_uri": "https://localhost:8080/"
        },
        "id": "nayOIfbFxrMd",
        "outputId": "399c7870-ea8d-44df-ec86-1d3477baeb75"
      },
      "execution_count": null,
      "outputs": [
        {
          "output_type": "stream",
          "name": "stdout",
          "text": [
            "[1, 3, 5]\n",
            "[1, 3, 5, 7, 9]\n",
            "[1, 3, 5, 7, 9, 11]\n",
            "[1]\n",
            "[]\n"
          ]
        }
      ]
    },
    {
      "cell_type": "markdown",
      "source": [
        "SKILL GROUP 2"
      ],
      "metadata": {
        "id": "7LZZ01Rf3MwJ"
      }
    },
    {
      "cell_type": "code",
      "source": [
        "# This list comprehension creates a list of squared numbers (n*n). It\n",
        "# accepts two integer variables through the function’s parameters.\n",
        "def squares(start, end):\n",
        "    return [x*x for x in range(start, end + 1)]\n",
        "\n",
        "print(squares(1, 5))  # Should be [1, 4, 9, 16, 25]\n",
        "print(squares(0, 10))  # Should be [0, 1, 4, 9, 16, 25, 36, 49, 64, 81, 100]\n",
        "print(squares(-5, 5))  # Should be [25, 16, 9, 4, 1, 0, 1, 4, 9, 16, 25]\n"
      ],
      "metadata": {
        "colab": {
          "base_uri": "https://localhost:8080/"
        },
        "id": "BqvV6KyA1ebj",
        "outputId": "23ec4608-2ad8-4fa0-a899-40070ce15d64"
      },
      "execution_count": null,
      "outputs": [
        {
          "output_type": "stream",
          "name": "stdout",
          "text": [
            "[1, 4, 9, 16, 25]\n",
            "[0, 1, 4, 9, 16, 25, 36, 49, 64, 81, 100]\n",
            "[25, 16, 9, 4, 1, 0, 1, 4, 9, 16, 25]\n"
          ]
        }
      ]
    },
    {
      "cell_type": "markdown",
      "source": [
        "SKILL GROUP 1"
      ],
      "metadata": {
        "id": "nRgt3Boe2gSe"
      }
    },
    {
      "cell_type": "code",
      "source": [
        "\n",
        "years = [\"January 2023\", \"May 2025\", \"April 2023\", \"August 2024\", \"September 2025\", \"December 2023\"]\n",
        "\n",
        "# The variable \"updated_years\" is initialized as a list data type\n",
        "# using empty square brackets []. This list will hold the new list\n",
        "# with the updated years.\n",
        "updated_years = []\n",
        "\n",
        "# The for loop checks each \"year\" element in the list \"years\".\n",
        "for year in years:\n",
        "\n",
        "    # The if-statement checks if the \"year\" element ends with the\n",
        "    # substring \"2023\".\n",
        "    if year.endswith(\"2023\"):\n",
        "\n",
        "        # If True, then a temporary variable \"new\" will hold the\n",
        "        # modified \"year\" element where the \"2023\" substring is\n",
        "        # replaced with the substring \"2024\".\n",
        "        new = year.replace(\"2023\",\"2024\")\n",
        "\n",
        "        # Then, the list \"updated_years\" is appended with the changed\n",
        "        # element held in the temporary variable \"new\".\n",
        "        updated_years.append(new)\n",
        "\n",
        "    # If False, the original \"year\" element will be appended to the\n",
        "    # the \"updated_years\" list unchanged.\n",
        "    else:\n",
        "        updated_years.append(year)\n",
        "\n",
        "\n",
        "print(updated_years)"
      ],
      "metadata": {
        "colab": {
          "base_uri": "https://localhost:8080/"
        },
        "id": "hIdSUQgJ1e1o",
        "outputId": "525ba8ff-28de-483e-b670-05569a4f99f1"
      },
      "execution_count": null,
      "outputs": [
        {
          "output_type": "stream",
          "name": "stdout",
          "text": [
            "['January 2024', 'May 2025', 'April 2024', 'August 2024', 'September 2025', 'December 2024']\n"
          ]
        }
      ]
    },
    {
      "cell_type": "code",
      "source": [
        "years = [\"January 2023\", \"May 2025\", \"April 2023\", \"August 2024\", \"September 2025\", \"December 2023\"]\n",
        "\n",
        "# The list comprehension below creates a new list \"updated_years\" to\n",
        "# hold the command to replace the \"2023\" substring of the \"year\"\n",
        "# element with the substring \"2024\". This action will be executed if\n",
        "# the last 4 indices of the \"year\" string is equal to the substring\n",
        "# \"2023\". If false (else), the \"year\" element will be included in the\n",
        "# new list \"updated_years\" unchanged.\n",
        "updated_years = [year.replace(\"2023\",\"2024\") if year[-4:] == \"2023\" else year for year in years]\n",
        "\n",
        "\n",
        "print(updated_years)\n",
        "# Should print [\"January 2024\", \"May 2025\", \"April 2024\", \"August 2024\", \"September 2025\", \"December 2024\"]"
      ],
      "metadata": {
        "colab": {
          "base_uri": "https://localhost:8080/"
        },
        "id": "UKLuFqG33cGO",
        "outputId": "d782feab-a45c-4134-be28-820c3a086792"
      },
      "execution_count": null,
      "outputs": [
        {
          "output_type": "stream",
          "name": "stdout",
          "text": [
            "['January 2024', 'May 2025', 'April 2024', 'August 2024', 'September 2025', 'December 2024']\n"
          ]
        }
      ]
    },
    {
      "cell_type": "markdown",
      "source": [
        "SKIL GROUP 4"
      ],
      "metadata": {
        "id": "RWPBLgiu3u5I"
      }
    },
    {
      "cell_type": "code",
      "source": [
        "# This function splits a given string into a list of elements. Then, it\n",
        "# modifies each element by moving the first character to the end of the\n",
        "# element and adds a dash between the element and the moved character.\n",
        "# For example, the element \"2two\" will be changed to \"two-2\". Finally,\n",
        "# the function converts the list back to a string, and returns the\n",
        "# new string.\n",
        "def change_string(given_string):\n",
        "\n",
        "# Initialize \"new_string\" as a string data type by using empty quotes.\n",
        "    new_string = \"\"\n",
        "    # Split the \"given_string\" into a \"new_list\", with each \"element\"\n",
        "    # holding an individual word from the string.\n",
        "    new_list = given_string.split()\n",
        "\n",
        "    # The for loop iterates over each \"element\" in the \"new_list\".\n",
        "    for element in new_list:\n",
        "\n",
        "        # Convert the list into a \"new_string\" by using the assignment\n",
        "        # operator += to concatenate the following items:\n",
        "        # + Each list \"element\" (starting at index position [1:]),\n",
        "        # + a dash \"-\",\n",
        "        # + append the first character of the \"element\" (using the index\n",
        "        # [0]) to the end of the \"element\", and finally,\n",
        "        # + a space \" \" to separate each \"element\" in the \"new_string\".\n",
        "        new_string += element[1:] + \"-\"  + element[0] + \" \"\n",
        "\n",
        "    # Return the list that has been converted back into a string.\n",
        "    return new_string\n",
        "\n",
        "\n",
        "print(change_string(\"1one 2two 3three 4four 5five\"))\n",
        "# Should print \"one-1 two-2 three-3 four-4 five-5\""
      ],
      "metadata": {
        "colab": {
          "base_uri": "https://localhost:8080/"
        },
        "id": "3x-7Kquj3tLl",
        "outputId": "bcc72fcd-910b-4909-b6d3-41208c02961b"
      },
      "execution_count": null,
      "outputs": [
        {
          "output_type": "stream",
          "name": "stdout",
          "text": [
            "one-1 two-2 three-3 four-4 five-5 \n"
          ]
        }
      ]
    },
    {
      "cell_type": "markdown",
      "source": [
        "SKILL GROUP 5"
      ],
      "metadata": {
        "id": "RDb9Qwn04NuI"
      }
    },
    {
      "cell_type": "code",
      "source": [
        "# This function accepts a list name and a list of elements, and returns\n",
        "# a string with the format: \"The \"list_name\" list includes: element1,\n",
        "# element2, element3\".\n",
        "def list_elements(list_name, elements):\n",
        "\n",
        "    # This task can be completed in a single line of code. The\n",
        "    # concatenation of strings, \"list_name\", and the list \"elements\" can\n",
        "    # occur on the return line. In this case, the string \"The \" is added\n",
        "    # to the \"list_name\", plus the string \" list includes: \", then the\n",
        "    # \"elements\" are joined using a comma to separate each element of the\n",
        "    # list.\n",
        "    return \"The \" + list_name + \" list includes: \" + \", \".join(elements)\n",
        "\n",
        "\n",
        "print(list_elements(\"Printers\", [\"Color Printer\", \"Black and White Printer\", \"3-D Printer\"]))\n",
        "# Should print \"The Printers list includes: Color Printer, Black and White Printer, 3-D Printer\""
      ],
      "metadata": {
        "colab": {
          "base_uri": "https://localhost:8080/"
        },
        "id": "nobEI7254Le2",
        "outputId": "476b2ae0-f97f-4b56-9924-e3ae32e65f60"
      },
      "execution_count": null,
      "outputs": [
        {
          "output_type": "stream",
          "name": "stdout",
          "text": [
            "The Printers list includes: Color Printer, Black and White Printer, 3-D Printer\n"
          ]
        }
      ]
    },
    {
      "cell_type": "markdown",
      "source": [
        "# EXAM"
      ],
      "metadata": {
        "id": "VVbgnl2DUDsz"
      }
    },
    {
      "cell_type": "code",
      "source": [
        "filenames = [\"program.c\", \"stdio.hpp\", \"sample.hpp\", \"a.out\", \"math.hpp\", \"hpp.out\"]\n",
        "\n",
        "# Using a list comprehension to create the new list \"newfilenames\"\n",
        "newfilenames = [file.replace(\".hpp\", \".h\") if file.endswith(\".hpp\") else file for file in filenames]\n",
        "\n",
        "print(newfilenames)\n",
        "# Output: ['program.c', 'stdio.h', 'sample.h', 'a.out', 'math.h', 'hpp.out']\n"
      ],
      "metadata": {
        "colab": {
          "base_uri": "https://localhost:8080/"
        },
        "id": "zUMnu499UDUn",
        "outputId": "fa76c471-782a-454a-fa61-fe75626ab2a1"
      },
      "execution_count": null,
      "outputs": [
        {
          "output_type": "stream",
          "name": "stdout",
          "text": [
            "['program.c', 'stdio.h', 'sample.h', 'a.out', 'math.h', 'hpp.out']\n"
          ]
        }
      ]
    },
    {
      "cell_type": "code",
      "source": [
        "text = \"hello how are you\"\n",
        "\n",
        "def pig_latin(text):\n",
        "  say = \"\"\n",
        "  # Separate the text into words\n",
        "words = text.split()\n",
        "\n",
        "print (words)\n",
        "'''\n",
        "  for word in words:\n",
        "    # Create the pig latin word and add it to the list\n",
        "    ___\n",
        "    # Turn the list back into a phrase\n",
        "  return ___\n",
        "\n",
        "print(pig_latin(\"hello how are you\")) # Should be \"ellohay owhay reaay ouyay\"\n",
        "print(pig_latin(\"programming in python is fun\")) # Should be \"rogrammingpay niay ythonpay siay unfay\"\n",
        "'''\n"
      ],
      "metadata": {
        "colab": {
          "base_uri": "https://localhost:8080/",
          "height": 87
        },
        "id": "QgFikLJ-UqtA",
        "outputId": "e8414626-9f4d-4567-bfe6-e7854f5ab6ed"
      },
      "execution_count": null,
      "outputs": [
        {
          "output_type": "stream",
          "name": "stdout",
          "text": [
            "['hello', 'how', 'are', 'you']\n"
          ]
        },
        {
          "output_type": "execute_result",
          "data": {
            "text/plain": [
              "'  \\n  for word in words:\\n    # Create the pig latin word and add it to the list\\n    ___\\n    # Turn the list back into a phrase\\n  return ___\\n\\t\\t\\nprint(pig_latin(\"hello how are you\")) # Should be \"ellohay owhay reaay ouyay\"\\nprint(pig_latin(\"programming in python is fun\")) # Should be \"rogrammingpay niay ythonpay siay unfay\"\\n'"
            ],
            "application/vnd.google.colaboratory.intrinsic+json": {
              "type": "string"
            }
          },
          "metadata": {},
          "execution_count": 69
        }
      ]
    },
    {
      "cell_type": "code",
      "source": [
        "def pig_latin(text):\n",
        "  say = \"\"\n",
        "  # Separate the text into words\n",
        "  words = text.split()\n",
        "  newpig_latin = []\n",
        "  for word in words:\n",
        "    # Create the pig latin word and add it to the list\n",
        "    latin_word = word[1:] + word[0] + 'ay'\n",
        "    newpig_latin.append(latin_word)\n",
        "    # Turn the list back into a phrase\n",
        "  return newpig_latin\n",
        "\n",
        "print(pig_latin(\"hello how are you\")) # Should be \"ellohay owhay reaay ouyay\"\n",
        "print(pig_latin(\"programming in python is fun\")) # Should be \"rogrammingpay niay ythonpay siay unfay\""
      ],
      "metadata": {
        "colab": {
          "base_uri": "https://localhost:8080/"
        },
        "id": "ENImsM8DVUVj",
        "outputId": "3134dad4-be7e-494e-9de3-728bd60ec7f8"
      },
      "execution_count": null,
      "outputs": [
        {
          "output_type": "stream",
          "name": "stdout",
          "text": [
            "['ellohay', 'owhay', 'reaay', 'ouyay']\n",
            "['rogrammingpay', 'niay', 'ythonpay', 'siay', 'unfay']\n"
          ]
        }
      ]
    },
    {
      "cell_type": "code",
      "source": [
        "def group_list(group, users):\n",
        "  members = \",\".join(users)\n",
        "  return '{} : {}'. format (group, members)\n",
        "\n",
        "print(group_list(\"Marketing\", [\"Mike\", \"Karen\", \"Jake\", \"Tasha\"])) # Should be \"Marketing: Mike, Karen, Jake, Tasha\"\n",
        "print(group_list(\"Engineering\", [\"Kim\", \"Jay\", \"Tom\"])) # Should be \"Engineering: Kim, Jay, Tom\"\n",
        "print(group_list(\"Users\", \"\")) # Should be \"Users:\""
      ],
      "metadata": {
        "colab": {
          "base_uri": "https://localhost:8080/"
        },
        "id": "58nweH7WYiiZ",
        "outputId": "a7ea765e-4231-4231-d745-f1719c90f372"
      },
      "execution_count": null,
      "outputs": [
        {
          "output_type": "stream",
          "name": "stdout",
          "text": [
            "Marketing : Mike,Karen,Jake,Tasha\n",
            "Engineering : Kim,Jay,Tom\n",
            "Users : \n"
          ]
        }
      ]
    },
    {
      "cell_type": "code",
      "source": [
        "def group_list(group, users):\n",
        "    members = \", \".join(users)\n",
        "    return f\"{group}: {members}\"\n",
        "\n",
        "print(group_list(\"Marketing\", [\"Mike\", \"Karen\", \"Jake\", \"Tasha\"]))  # Should be \"Marketing: Mike, Karen, Jake, Tasha\"\n",
        "print(group_list(\"Engineering\", [\"Kim\", \"Jay\", \"Tom\"]))  # Should be \"Engineering: Kim, Jay, Tom\"\n",
        "print(group_list(\"Users\", \"\"))  # Should be \"Users:\"\n"
      ],
      "metadata": {
        "colab": {
          "base_uri": "https://localhost:8080/"
        },
        "id": "xLO42OA6Z_pd",
        "outputId": "ec29f8ce-6aa4-4bf6-9646-7ba7b4215800"
      },
      "execution_count": null,
      "outputs": [
        {
          "output_type": "stream",
          "name": "stdout",
          "text": [
            "Marketing: Mike, Karen, Jake, Tasha\n",
            "Engineering: Kim, Jay, Tom\n",
            "Users: \n"
          ]
        }
      ]
    },
    {
      "cell_type": "code",
      "source": [
        "def guest_list(guests):\n",
        "  for guest in guests:\n",
        "    name, age, job = guest\n",
        "    print('{} is {} years old and works as {}'.format(name, age, job))\n",
        "\n",
        "guest_list([('Ken', 30, \"Chef\"), (\"Pat\", 35, 'Lawyer'), ('Amanda', 25, \"Engineer\")])\n",
        "\n",
        "#Click Run to submit code\n",
        "'''\n",
        "Output should match:\n",
        "Ken is 30 years old and works as Chef\n",
        "Pat is 35 years old and works as Lawyer\n",
        "Amanda is 25 years old and works as Engineer\n",
        "'''\n"
      ],
      "metadata": {
        "colab": {
          "base_uri": "https://localhost:8080/",
          "height": 87
        },
        "id": "dIlDZLBua1qx",
        "outputId": "82947e1c-0bba-41ef-d889-d09df45b591a"
      },
      "execution_count": null,
      "outputs": [
        {
          "output_type": "stream",
          "name": "stdout",
          "text": [
            "Ken is 30 years old and works as Chef\n",
            "Pat is 35 years old and works as Lawyer\n",
            "Amanda is 25 years old and works as Engineer\n"
          ]
        },
        {
          "output_type": "execute_result",
          "data": {
            "text/plain": [
              "'\\nOutput should match:\\nKen is 30 years old and works as Chef\\nPat is 35 years old and works as Lawyer\\nAmanda is 25 years old and works as Engineer\\n'"
            ],
            "application/vnd.google.colaboratory.intrinsic+json": {
              "type": "string"
            }
          },
          "metadata": {},
          "execution_count": 86
        }
      ]
    },
    {
      "cell_type": "code",
      "source": [
        "def guest_list(guests):\n",
        "    for guest in guests:\n",
        "        name, age, occupation = guest\n",
        "        print(\"{} is {} years old and works as {}\".format(name, age, occupation))\n",
        "\n",
        "guest_list([('Ken', 30, \"Chef\"), (\"Pat\", 35, 'Lawyer'), ('Amanda', 25, \"Engineer\")])\n"
      ],
      "metadata": {
        "colab": {
          "base_uri": "https://localhost:8080/"
        },
        "id": "3MG0T-CEa153",
        "outputId": "f50c454f-10c6-4ee0-e72b-371573e38e2f"
      },
      "execution_count": null,
      "outputs": [
        {
          "output_type": "stream",
          "name": "stdout",
          "text": [
            "Ken is 30 years old and works as Chef\n",
            "Pat is 35 years old and works as Lawyer\n",
            "Amanda is 25 years old and works as Engineer\n"
          ]
        }
      ]
    },
    {
      "cell_type": "markdown",
      "source": [
        "# DICTIONARIES\n",
        "### Operations\n",
        "\n",
        "\n",
        "*   len(dictionary) - Returns the number of items in a dictionary.\n",
        "*   for key, in dictionary - Iterates over each key in a dictionary.\n",
        "*   for key, value in dictionary.items() - Iterates over each key,value pair in a dictionary.\n",
        "*   if key in dictionary - Checks whether a key is in a dictionary.\n",
        "*   dictionary[key] - Accesses a value using the associated key from a dictionary.\n",
        "*   dictionary[key] = value - Sets a value associated with a key.\n",
        "*   del dictionary[key] - Removes a value using the associated key from a dictionary.\n",
        "\n",
        "### Methods\n",
        "\n",
        "*   dictionary.get(key, default) - Returns the value corresponding to a key, or the default value if the specified key is not present.\n",
        "*   dictionary.keys() - Returns a sequence containing the keys in a dictionary.\n",
        "*   dictionary.values() - Returns a sequence containing the values in a dictionary.\n",
        "*   dictionary[key].append(value) - Appends a new value for an existing key.\n",
        "*   dictionary.update(other_dictionary) - Updates a dictionary with the items from another dictionary. Existing entries are updated; new entries are added.\n",
        "*   dictionary.clear() - Deletes all items from a dictionary.\n",
        "*   dictionary.copy() - Makes a copy of a dictionary.\n",
        "\n",
        "\n"
      ],
      "metadata": {
        "id": "O5gJAe67pzYg"
      }
    },
    {
      "cell_type": "code",
      "source": [
        "def count_letters(text):\n",
        "  result = {}\n",
        "  for letter in text:         #por cada caracter que esté en 'text'\n",
        "    if letter not in result:     # ¿el caracter no está en el diccionario?\n",
        "      result[letter] = 0       # T: el diccionario añade el caracter con un valor de cero (inicializa el conteo)\n",
        "    result[letter] += 1        # F: se incrementa el valor del caracter 1 a 1\n",
        "  return result\n",
        "\n",
        "print(count_letters ('aaaaa'))\n",
        "print(count_letters ('abcab'))\n",
        "#print(len(result))"
      ],
      "metadata": {
        "colab": {
          "base_uri": "https://localhost:8080/"
        },
        "id": "g1szT_Y7p2p9",
        "outputId": "d94b7707-cd66-4f5a-b289-f2af883bf63f"
      },
      "execution_count": null,
      "outputs": [
        {
          "output_type": "stream",
          "name": "stdout",
          "text": [
            "{'a': 5}\n",
            "{'a': 2, 'b': 2, 'c': 1}\n"
          ]
        }
      ]
    },
    {
      "cell_type": "code",
      "source": [
        "pet_dictionary = {\"dogs\": [\"Yorkie\", \"Collie\", \"Bulldog\"], \"cats\": [\"Persian\", \"Scottish Fold\", \"Siberian\"], \"rabbits\": [\"Angora\", \"Holland Lop\", \"Harlequin\"]}\n",
        "\n",
        "\n",
        "print(pet_dictionary.get(\"dogs\", 0))\n",
        "# Should print ['Yorkie', 'Collie', 'Bulldog']"
      ],
      "metadata": {
        "colab": {
          "base_uri": "https://localhost:8080/"
        },
        "id": "KqN2s99Tztae",
        "outputId": "a0577faa-1630-44c8-a740-a64128a351f1"
      },
      "execution_count": null,
      "outputs": [
        {
          "output_type": "stream",
          "name": "stdout",
          "text": [
            "['Yorkie', 'Collie', 'Bulldog']\n"
          ]
        }
      ]
    },
    {
      "cell_type": "code",
      "source": [
        "# This function returns the total time, with minutes represented as\n",
        "# decimals (example: 1 hour 30 minutes = 1.5), for all end user time\n",
        "# spent accessing a server in a given day.\n",
        "\n",
        "\n",
        "def sum_server_use_time(Server):\n",
        "\n",
        "    # Initialize the variable as a float data type, which will be used\n",
        "    # to hold the sum of the total hours and minutes of server usage by\n",
        "    # end users in a day.\n",
        "    total_use_time = 0.0\n",
        "\n",
        "    # Iterate through the \"Server\" dictionary’s key and value items\n",
        "    # using a for loop.\n",
        "    for key,value in Server.items():\n",
        "\n",
        "        # For each end user key, add the associated time value to the\n",
        "        # total sum of all end user use time.\n",
        "        total_use_time += Server[key]\n",
        "\n",
        "    # Round the return value and limit to 2 decimal places.\n",
        "    return round(total_use_time, 2)\n",
        "\n",
        "FileServer = {\"EndUser1\": 2.25, \"EndUser2\": 4.5, \"EndUser3\": 1, \"EndUser4\": 3.75, \"EndUser5\": 0.6, \"EndUser6\": 8}\n",
        "\n",
        "print(sum_server_use_time(FileServer)) # Should print 20.1"
      ],
      "metadata": {
        "colab": {
          "base_uri": "https://localhost:8080/"
        },
        "id": "zzTnpoOO2WtH",
        "outputId": "756c2554-1cf0-4238-f4ec-5d7944089605"
      },
      "execution_count": null,
      "outputs": [
        {
          "output_type": "stream",
          "name": "stdout",
          "text": [
            "20.1\n"
          ]
        }
      ]
    },
    {
      "cell_type": "code",
      "source": [],
      "metadata": {
        "id": "sQY_8QzCSNdM"
      },
      "execution_count": null,
      "outputs": []
    },
    {
      "cell_type": "code",
      "source": [
        "# This function receives a dictionary, which contains common employee\n",
        "# last names as keys, and a list of employee first names as values.\n",
        "# The function generates a new list that contains each employees’ full\n",
        "# name (First_name Last_Name). For example, the key \"Garcia\" with the\n",
        "# values [\"Maria\", \"Hugo\", \"Lucia\"] should be converted to a list\n",
        "# that contains [\"Maria Garcia\", \"Hugo Garcia\", \"Lucia Garcia\"].\n",
        "\n",
        "\n",
        "def list_full_names(employee_dictionary):\n",
        "    # Initialize the \"full_names\" variable as a list data type using\n",
        "    # empty [] square brackets.\n",
        "    full_names = []\n",
        "\n",
        "    # The outer for loop iterates through each \"last_name\" key and\n",
        "    # associated \"first_name\" values, in the \"employee_dictionary\" items.\n",
        "    for last_name, first_names in employee_dictionary.items():\n",
        "\n",
        "        # The inner for loop iterates over each \"first_name\" value in\n",
        "        # the list of \"first_names\" for one \"last_name\" key at a time.\n",
        "        for first_name in first_names:\n",
        "\n",
        "            # Append the new \"full_names\" list with the \"first_name\" value\n",
        "            # concatenated with a space \" \", and the key \"last_name\".\n",
        "            full_names.append(first_name+\" \"+last_name)\n",
        "\n",
        "    # Return the new \"full_names\" list once the outer for loop has\n",
        "    # completed all iterations.\n",
        "    return(full_names)\n",
        "\n",
        "\n",
        "print(list_full_names({\"Ali\": [\"Muhammad\", \"Amir\", \"Malik\"], \"Devi\": [\"Ram\", \"Amaira\"], \"Chen\": [\"Feng\", \"Li\"]}))\n",
        "# Should print ['Muhammad Ali', 'Amir Ali', 'Malik Ali', 'Ram Devi', 'Amaira Devi', 'Feng Chen', 'Li Chen']\n"
      ],
      "metadata": {
        "colab": {
          "base_uri": "https://localhost:8080/"
        },
        "id": "liyHmOlN2x8i",
        "outputId": "d6011152-c11c-4e9d-d7db-52518597d2d4"
      },
      "execution_count": null,
      "outputs": [
        {
          "output_type": "stream",
          "name": "stdout",
          "text": [
            "['Muhammad Ali', 'Amir Ali', 'Malik Ali', 'Ram Devi', 'Amaira Devi', 'Feng Chen', 'Li Chen']\n"
          ]
        }
      ]
    },
    {
      "cell_type": "code",
      "source": [
        "# This function receives a dictionary, which contains resource\n",
        "# categories (keys) with a list of available resources (values) for a\n",
        "# company’s IT Department. The resources belong to multiple categories.\n",
        "# The function should reverse the keys and values to show which\n",
        "# categories (values) each resource (key) belongs to.\n",
        "\n",
        "\n",
        "def invert_resource_dict(resource_dictionary):\n",
        "  # Initialize a \"new_dictionary\" variable as a dict data type using\n",
        "  # empty {} curly brackets.\n",
        "    new_dictionary = {}\n",
        "    # The outer for loop iterates through each \"resource_group\" and\n",
        "    # associated \"resources\" in the \"resource_dictionary\" items.\n",
        "    for resource_group, resources in resource_dictionary.items():\n",
        "        # The inner for loop iterates over each \"resource\" value in\n",
        "        # the list of \"resources\" for one \"resource_group\" key at a time.\n",
        "        for resource in resources:\n",
        "            # The if-statement checks if the current \"resource\" value has\n",
        "            # been appended as a key to the \"new_dictionary\" yet.\n",
        "            if resource in new_dictionary:\n",
        "                # If True, then append the \"resource_group\" as a value to the\n",
        "                # \"resource\", which is now the key.\n",
        "                new_dictionary[resource].append(resource_group)\n",
        "            # If False (else), then add the \"resource\" as a new key with the\n",
        "            # \"resource_group\" as a value for that key.\n",
        "            else:\n",
        "                new_dictionary[resource] = [resource_group]\n",
        "    # Return the new dictionary once the outer for loop has completed\n",
        "    # all iterations.\n",
        "    return(new_dictionary)\n",
        "\n",
        "\n",
        "print(invert_resource_dict({\"Hard Drives\": [\"IDE HDDs\", \"SCSI HDDs\"],\n",
        "        \"PC Parts\":  [\"IDE HDDs\", \"SCSI HDDs\", \"High-end video cards\", \"Basic video cards\"], \"Video Cards\": [\"High-end video cards\", \"Basic video cards\"]}))\n",
        "# Should print {'IDE HDDs': ['Hard Drives', 'PC Parts'], 'SCSI HDDs': ['Hard Drives', 'PC Parts'], 'High-end video cards': ['PC Parts', 'Video Cards'], 'Basic video cards': ['PC Parts', 'Video Cards']}\n"
      ],
      "metadata": {
        "id": "o8fiWN6K3Ctc"
      },
      "execution_count": null,
      "outputs": []
    },
    {
      "cell_type": "code",
      "source": [
        "def email_list(domains):\n",
        "\temails = []\n",
        "\tfor domain_name, users in domains.items ():\n",
        "\t  for user in users:\n",
        "\t    emails.append (user + '@' + domain_name)\n",
        "\treturn(emails)\n",
        "\n",
        "print(email_list({\"gmail.com\": [\"clark.kent\", \"diana.prince\", \"peter.parker\"], \"yahoo.com\": [\"barbara.gordon\", \"jean.grey\"], \"hotmail.com\": [\"bruce.wayne\"]}))"
      ],
      "metadata": {
        "id": "U3xlhMRX4cEV"
      },
      "execution_count": null,
      "outputs": []
    },
    {
      "cell_type": "code",
      "source": [
        "def groups_per_user(group_dictionary):\n",
        "\tuser_groups = {}\n",
        "\t# Go through group_dictionary\n",
        "\tfor ___:\n",
        "\t\t# Now go through the users in the group\n",
        "\t\tfor ___:\n",
        "\t\t\t# Now add the group to the the list of\n",
        "# groups for this user, creating the entry\n",
        "# in the dictionary if necessary\n",
        "\n",
        "\treturn(user_groups)\n",
        "\n",
        "print(groups_per_user({\"local\": [\"admin\", \"userA\"],\n",
        "\t\t\"public\":  [\"admin\", \"userB\"],\n",
        "\t\t\"administrator\": [\"admin\"] }))"
      ],
      "metadata": {
        "id": "Ghp06MAc4gZE"
      },
      "execution_count": null,
      "outputs": []
    },
    {
      "cell_type": "code",
      "source": [
        "def groups_per_user(group_dictionary):\n",
        "    user_groups = {}\n",
        "    # Go through group_dictionary\n",
        "    for group, users in group_dictionary.items():\n",
        "        # Now go through the users in the group\n",
        "        for user in users:\n",
        "            # Now add the group to the list of groups for this user,\n",
        "            # creating the entry in the dictionary if necessary\n",
        "            if user in user_groups:\n",
        "                user_groups[user].append(group)\n",
        "            else:\n",
        "                user_groups[user] = [group]\n",
        "\n",
        "    return user_groups\n",
        "\n",
        "print(groups_per_user({\n",
        "    \"local\": [\"admin\", \"userA\"],\n",
        "    \"public\": [\"admin\", \"userB\"],\n",
        "    \"administrator\": [\"admin\"]\n",
        "}))\n"
      ],
      "metadata": {
        "colab": {
          "base_uri": "https://localhost:8080/"
        },
        "id": "LkwdlJ4o5cND",
        "outputId": "8d928080-425b-493a-f668-10d468ad2079"
      },
      "execution_count": null,
      "outputs": [
        {
          "output_type": "stream",
          "name": "stdout",
          "text": [
            "{'admin': ['local', 'public', 'administrator'], 'userA': ['local'], 'userB': ['public']}\n"
          ]
        }
      ]
    },
    {
      "cell_type": "code",
      "source": [
        "def add_prices(basket):\n",
        "    # Initialize the variable that will be used for the calculation\n",
        "    total = 0\n",
        "    # Iterate through the dictionary items\n",
        "    for item, price in basket.items():\n",
        "        # Add each price to the total calculation\n",
        "        # Hint: how do you access the values of dictionary items?\n",
        "        total += price\n",
        "    # Limit the return value to 2 decimal places\n",
        "    return round(total, 2)\n",
        "\n",
        "groceries = {\"bananas\": 1.56, \"apples\": 2.50, \"oranges\": 0.99, \"bread\": 4.59,\n",
        "             \"coffee\": 6.99, \"milk\": 3.39, \"eggs\": 2.98, \"cheese\": 5.44}\n",
        "\n",
        "print(add_prices(groceries))  # Should print 28.44\n"
      ],
      "metadata": {
        "colab": {
          "base_uri": "https://localhost:8080/"
        },
        "id": "ZV_umsH359a1",
        "outputId": "bedaa9bd-f094-4521-96e9-05c71f24cee5"
      },
      "execution_count": null,
      "outputs": [
        {
          "output_type": "stream",
          "name": "stdout",
          "text": [
            "28.44\n"
          ]
        }
      ]
    },
    {
      "cell_type": "code",
      "source": [
        "def sales_prices(item_and_price):\n",
        "    # Initialize variables \"item\" and \"price\" as strings\n",
        "    item = \"\"\n",
        "    price = \"\"\n",
        "    # Create a variable \"item_or_price\" to hold the result of the split.\n",
        "    item_or_price = item_and_price.split()\n",
        "\n",
        "    # For each element \"x\" in the split variable \"item_or_price\"\n",
        "    for x in item_or_price:\n",
        "\n",
        "        # Check if the element is a number\n",
        "        if x.isalpha():\n",
        "\n",
        "            # If true, assign the element to the \"item\" string variable and add a space\n",
        "            # for any item names containing multiple words, like \"Winter fleece jacket\".\n",
        "            item += x + \" \"\n",
        "\n",
        "        # Else, if x is a number (if x.isalpha() is false):\n",
        "        else:\n",
        "            # Assign the element to the \"price\" string variable.\n",
        "            price = x\n",
        "\n",
        "    # Strip the extra space to the right of the last \"item\" word\n",
        "    item = item.strip()\n",
        "\n",
        "    # Return the item name and price formatted in a sentence\n",
        "    return \"{} are on sale for ${}\".format(item,price)\n",
        "\n",
        "\n",
        "# Call to the function\n",
        "print(sales_prices(\"Winter fleece jackets 49.99\"))\n",
        "# Should print \"Winter fleece jackets are on sale for $49.99\""
      ],
      "metadata": {
        "colab": {
          "base_uri": "https://localhost:8080/"
        },
        "id": "6itZgiY0DumZ",
        "outputId": "c465b265-5f5e-4c85-f368-3e5ded2b2570"
      },
      "execution_count": null,
      "outputs": [
        {
          "output_type": "stream",
          "name": "stdout",
          "text": [
            "Winter fleece jackets are on sale for $49.99\n"
          ]
        }
      ]
    },
    {
      "cell_type": "code",
      "source": [
        "# This function accepts a string variable \"data_field\".\n",
        "def count_words(data_field):\n",
        "\n",
        "    # Splits the string into individual words.\n",
        "    split_data = data_field.split()\n",
        "\n",
        "    # Then returns the number of words in the string using the len()\n",
        "    # function.\n",
        "    return len(split_data)\n",
        "\n",
        "    # Note that it is possible to combine the len() function and the\n",
        "    # .split() method into the same line of code by inserting the\n",
        "    # data_field.split() command into the the len() function parameters.\n",
        "\n",
        "# Call to the function\n",
        "count_words(\"Catalog item 3523: Organic raw pumpkin seeds in shell\")\n",
        "# Should print 9"
      ],
      "metadata": {
        "colab": {
          "base_uri": "https://localhost:8080/"
        },
        "id": "nzSNsIc-E8lv",
        "outputId": "d2d0aae8-6fe7-499b-ed4e-4493eb4e34ed"
      },
      "execution_count": null,
      "outputs": [
        {
          "output_type": "execute_result",
          "data": {
            "text/plain": [
              "9"
            ]
          },
          "metadata": {},
          "execution_count": 2
        }
      ]
    },
    {
      "cell_type": "code",
      "source": [
        "recent_first = [2022, 2018, 2011, 2006]\n",
        "recent_last = [1989, 1992, 1997, 2001]\n",
        "recent_first.reverse()\n",
        "recent_last.extend(recent_first)\n",
        "print (recent_first)\n",
        "print (recent_last)"
      ],
      "metadata": {
        "colab": {
          "base_uri": "https://localhost:8080/"
        },
        "id": "5J47uS_3FVvO",
        "outputId": "353a11a8-fb08-45a7-d95d-54ef1aff574d"
      },
      "execution_count": null,
      "outputs": [
        {
          "output_type": "stream",
          "name": "stdout",
          "text": [
            "[2006, 2011, 2018, 2022]\n",
            "[1989, 1992, 1997, 2001, 2006, 2011, 2018, 2022]\n"
          ]
        }
      ]
    },
    {
      "cell_type": "markdown",
      "source": [
        ".reverse()  .extend()"
      ],
      "metadata": {
        "id": "lGKUjpPkHM2U"
      }
    },
    {
      "cell_type": "code",
      "source": [
        "# This function accepts two variables, each containing a list of years.\n",
        "# A current \"recent_first\" list contains [2022, 2018, 2011, 2006].\n",
        "# An older \"recent_last\" list contains [1989, 1992, 1997, 2001].\n",
        "# The lists need to be combined with the years in chronological order.\n",
        "def record_profit_years(recent_first, recent_last):\n",
        "\n",
        "    # Reverse the order of the \"recent_first\" list so that it is in\n",
        "    # chronological order.\n",
        "    recent_first.reverse()\n",
        "\n",
        "    # Extend the \"recent_last\" list by appending the newly reversed\n",
        "    # \"recent_first\" list.\n",
        "    recent_last.extend(recent_first)\n",
        "\n",
        "    # Return the \"recent_last\", which now contains the two lists\n",
        "    # combined in chronological order.\n",
        "    return recent_last\n",
        "\n",
        "# Assign the two lists to the two variables to be passed to the\n",
        "# record_profit_years() function.\n",
        "recent_first = [2022, 2018, 2011, 2006]\n",
        "recent_last = [1989, 1992, 1997, 2001]\n",
        "\n",
        "\n",
        "\n",
        "# Call the record_profit_years() function and pass the two lists as\n",
        "# parameters.\n",
        "print(record_profit_years(recent_first, recent_last))\n",
        "# Should print [1989, 1992, 1997, 2001, 2006, 2011, 2018, 2022]"
      ],
      "metadata": {
        "colab": {
          "base_uri": "https://localhost:8080/"
        },
        "id": "UzfNOmyPFWyW",
        "outputId": "95a6051e-0eee-4ac8-8843-78cc86f2f981"
      },
      "execution_count": null,
      "outputs": [
        {
          "output_type": "stream",
          "name": "stdout",
          "text": [
            "[1989, 1992, 1997, 2001, 2006, 2011, 2018, 2022]\n"
          ]
        }
      ]
    },
    {
      "cell_type": "markdown",
      "source": [],
      "metadata": {
        "id": "3Cb53PRxHLKn"
      }
    },
    {
      "cell_type": "code",
      "source": [
        "# The function accepts two parameters: a start year and an end year.\n",
        "def list_years(start, end):\n",
        "\n",
        "    # It returns a list comprehension that creates a list of years in a for\n",
        "    # loop using a range from the start year to the end year (inclusive of\n",
        "    # the upper range year, using end+1).\n",
        "    return [year for year in range(start, end+1)]\n",
        "\n",
        "\n",
        "# Call the years() function with two parameters.\n",
        "print(list_years(1972, 1975))\n",
        "# Should print [1972, 1973, 1974, 1975]"
      ],
      "metadata": {
        "colab": {
          "base_uri": "https://localhost:8080/"
        },
        "id": "zCk0pJVQGkOK",
        "outputId": "593fecab-749c-4d19-f9b1-3c8528f18942"
      },
      "execution_count": null,
      "outputs": [
        {
          "output_type": "stream",
          "name": "stdout",
          "text": [
            "[1972, 1973, 1974, 1975]\n"
          ]
        }
      ]
    },
    {
      "cell_type": "code",
      "source": [
        "# The network() function accepts a dictionary \"servers\" as a parameter.\n",
        "def network(servers):\n",
        "\n",
        "    # A string variable is initialized to hold the \"result\".\n",
        "    result = \"\"\n",
        "\n",
        "    # For each \"hostname\" (key) and \"IP address\" (value) in the \"server\" dictionary items...\n",
        "    for hostname, IP_address in servers.items():\n",
        "\n",
        "        # A string identifying the hostname and IP address for each server is added\n",
        "        # to the \"result\" variable. The string .format() function and is used to plug\n",
        "        # the hostname and IP_address variables into the designated {} placeholders\n",
        "        # within the string.\n",
        "        result += \"The IP address of the {} server is {}\".format(hostname, IP_address) + \"\\n\"\n",
        "\n",
        "    # Return the \"result\" variable string.\n",
        "    return result\n",
        "\n",
        "# Call the \"network\" function with the dictionary.\n",
        "print(network({\"Domain Name Server\":\"8.8.8.8\", \"Gateway Server\":\"192.168.1.1\", \"Print Server\":\"192.168.1.33\", \"Mail Server\":\"192.168.1.190\"}))\n",
        "\n",
        "# Should print:\n",
        "# The IP address of the Domain Name Server server is 8.8.8.8\n",
        "# The IP address of the Gateway Server server is 192.168.1.1\n",
        "# The IP address of the Print Server server is 192.168.1.33\n",
        "# The IP address of the Mail Server server is 192.168.1.190"
      ],
      "metadata": {
        "id": "YDK90dkIG5B5"
      },
      "execution_count": null,
      "outputs": []
    },
    {
      "cell_type": "markdown",
      "source": [
        ".copy()"
      ],
      "metadata": {
        "id": "NPO0JF2zHXuI"
      }
    },
    {
      "cell_type": "code",
      "source": [
        "# The scores() function accepts a dictionary \"game_scores\" as a parameter.\n",
        "def reset_scores(game_scores):\n",
        "\n",
        "    # The .copy() dictionary method is used to create a new copy of the \"game_scores\".\n",
        "    new_game_scores = game_scores.copy()\n",
        "\n",
        "    # The for loop iterates over new_game_scores items, with the player as the key\n",
        "    # and the score as the value.\n",
        "    for player, score in new_game_scores.items():\n",
        "\n",
        "        # The dictionary operation to assign a new value to a key is used\n",
        "        # to reset the grade values to 0.\n",
        "        new_game_scores[player] = 0\n",
        "\n",
        "    return new_game_scores\n",
        "\n",
        "# The dictionary is defined.\n",
        "game1_scores = {\"Arshi\": 3, \"Catalina\": 7, \"Diego\": 6}\n",
        "\n",
        "# Call the \"reset_scores\" function with the \"game1_scores\" dictionary.\n",
        "print(reset_scores(game1_scores))\n",
        "# Should print {'Arshi': 0, 'Catalina': 0, 'Diego': 0}"
      ],
      "metadata": {
        "id": "3LcFkBR2HaLk"
      },
      "execution_count": null,
      "outputs": []
    },
    {
      "cell_type": "markdown",
      "source": [
        "# EXAM"
      ],
      "metadata": {
        "id": "jwD-dXZRJpWV"
      }
    },
    {
      "cell_type": "code",
      "source": [
        "def format_address(address_string):\n",
        "    house_number = \"\"\n",
        "    street_name = \"\"\n",
        "\n",
        "    # Separate the house number from the street name.\n",
        "    address_parts = address_string.split()\n",
        "\n",
        "    for address_part in address_parts:\n",
        "        # Complete the if-statement with a string method.\n",
        "        if address_part.isdigit():\n",
        "            house_number = address_part\n",
        "        else:\n",
        "            street_name += address_part + \" \"\n",
        "\n",
        "    # Remove the extra space at the end of the last \"street_name\".\n",
        "    street_name = street_name.strip()\n",
        "\n",
        "    # Use a string method to return the required formatted string.\n",
        "    return f\"House number {house_number} on a street named {street_name}\"\n",
        "\n",
        "\n",
        "print(format_address(\"123 Main Street\"))\n",
        "# Should print: \"House number 123 on a street named Main Street\"\n",
        "\n",
        "print(format_address(\"1001 1st Ave\"))\n",
        "# Should print: \"House number 1001 on a street named 1st Ave\"\n",
        "\n",
        "print(format_address(\"55 North Center Drive\"))\n"
      ],
      "metadata": {
        "id": "VijpN3glJnKr"
      },
      "execution_count": null,
      "outputs": []
    },
    {
      "cell_type": "code",
      "source": [
        "def check_guests(guest_list, guest):\n",
        "  return ___ # Return the value for the given key\n",
        "\n",
        "\n",
        "guest_list = { \"Adam\":3, \"Camila\":3, \"David\":5, \"Jamal\":3, \"Charley\":2, \"Titus\":1, \"Raj\":6, \"Noemi\":1, \"Sakira\":3, \"Chidi\":5}\n",
        "\n",
        "\n",
        "print(check_guests(guest_list, \"Adam\")) # Should print 3\n",
        "print(check_guests(guest_list, \"Sakira\")) # Should print 3\n",
        "print(check_guests(guest_list, \"Charley\")) # Should print 2"
      ],
      "metadata": {
        "id": "jAPWo6pPKvyQ"
      },
      "execution_count": null,
      "outputs": []
    },
    {
      "cell_type": "code",
      "source": [
        "def setup_gradebook(old_gradebook):\n",
        "  # Use a dictionary method to create a new copy of the \"old_gradebook\".\n",
        "  new_gradebook = old_gradebook.copy()\n",
        "    # Complete the for loop to iterate over the new gradebook.\n",
        "  for name, grade in new_gradebook.items():\n",
        "        # Use a dictionary operation to reset the grade values to 0.\n",
        "        new_gradebook [name] = 0\n",
        "  return new_gradebook\n",
        "\n",
        "fall_gradebook = {\"James\": 93, \"Felicity\": 98, \"Barakaa\": 80}\n",
        "print(setup_gradebook(fall_gradebook))\n",
        "# Should output {'James': 0, 'Felicity': 0, 'Barakaa': 0}"
      ],
      "metadata": {
        "colab": {
          "base_uri": "https://localhost:8080/"
        },
        "id": "8GVhGw0VTpo2",
        "outputId": "4762c3ab-8a1b-4b18-e602-d58d8e80eb0b"
      },
      "execution_count": null,
      "outputs": [
        {
          "output_type": "stream",
          "name": "stdout",
          "text": [
            "{'James': 0, 'Felicity': 0, 'Barakaa': 0}\n"
          ]
        }
      ]
    },
    {
      "cell_type": "code",
      "source": [
        "genre = 'transcendental'\n",
        "print(genre[:-8])\n",
        "print(genre[-7:9])\n",
        "g = {'a':12, 'b':23, 'c':14}\n",
        "g.values()\n",
        "#g = g.append ('d')\n",
        "#print(g)\n"
      ],
      "metadata": {
        "colab": {
          "base_uri": "https://localhost:8080/"
        },
        "id": "YvZcayacUQli",
        "outputId": "e857f30e-8784-4304-e49c-0a6fdc6f1798"
      },
      "execution_count": null,
      "outputs": [
        {
          "output_type": "stream",
          "name": "stdout",
          "text": [
            "transc\n",
            "nd\n"
          ]
        },
        {
          "output_type": "execute_result",
          "data": {
            "text/plain": [
              "dict_values([12, 23, 14])"
            ]
          },
          "metadata": {},
          "execution_count": 17
        }
      ]
    }
  ]
}